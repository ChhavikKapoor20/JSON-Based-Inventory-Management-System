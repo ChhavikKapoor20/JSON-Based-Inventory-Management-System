{
 "cells": [
  {
   "cell_type": "markdown",
   "id": "fdc75896",
   "metadata": {},
   "source": [
    "## Importing Modules"
   ]
  },
  {
   "cell_type": "code",
   "execution_count": 158,
   "id": "dd7e62c4",
   "metadata": {},
   "outputs": [],
   "source": [
    "import json"
   ]
  },
  {
   "cell_type": "markdown",
   "id": "7e86f5b1",
   "metadata": {},
   "source": [
    "## Read Data from JSON"
   ]
  },
  {
   "cell_type": "code",
   "execution_count": 159,
   "id": "29602fef",
   "metadata": {},
   "outputs": [],
   "source": [
    "fd = open(\"Inventory.json\",'r')\n",
    "r = fd.read()\n",
    "fd.close()\n",
    "\n",
    "inventory = json.loads(r)"
   ]
  },
  {
   "cell_type": "code",
   "execution_count": 160,
   "id": "4685f934",
   "metadata": {},
   "outputs": [
    {
     "name": "stdout",
     "output_type": "stream",
     "text": [
      "List of Products ->\n",
      "..................................................................................\n",
      "1001 {'Name': 'Dairy Milk', 'Price': 10, 'Quantity': 271, 'Discount%': 0.5, 'Purchase_Year': 2021}\n",
      "1002 {'Name': 'Cadbury Silk', 'Price': 60, 'Quantity': 99, 'Discount%': 6.7, 'Purchase_Year': 2021}\n",
      "1003 {'Name': '5 Star', 'Price': 25, 'Quantity': 36, 'Discount%': 5.5, 'Purchase_Year': 2021}\n",
      "1004 {'Name': 'Perk', 'Price': 5, 'Quantity': 66, 'Discount%': 1.4, 'Purchase_Year': 2021}\n",
      "1005 {'Name': 'Kit-Kat', 'Price': 30, 'Quantity': 103, 'Discount%': 2.6, 'Purchase_Year': 2021}\n",
      "1006 {'Name': 'Milky Bar', 'Price': 20, 'Quantity': 252, 'Discount%': 3.3, 'Purchase_Year': 2021}\n",
      "1007 {'Name': 'Bar-one', 'Price': 40, 'Quantity': 261, 'Discount%': 7.9, 'Purchase_Year': 2021}\n",
      "1008 {'Name': 'Munch', 'Price': 5, 'Quantity': 99, 'Discount%': 9.9, 'Purchase_Year': 2021}\n",
      "1009 {'Name': 'Ferrero Rocher', 'Price': 240, 'Quantity': 168, 'Discount%': 9.0, 'Purchase_Year': 2021}\n",
      "1010 {'Name': 'Galaxy', 'Price': 40, 'Quantity': 97, 'Discount%': 8.8, 'Purchase_Year': 2021}\n",
      "1011 {'Name': 'Snickers', 'Price': 30, 'Quantity': 282, 'Discount%': 7.1, 'Purchase_Year': 2021}\n",
      "1012 {'Name': 'Toblerone', 'Price': 200, 'Quantity': 226, 'Discount%': 3.4, 'Purchase_Year': 2021}\n",
      "1013 {'Name': \"Hershey's Syrup\", 'Price': 220, 'Quantity': 117, 'Discount%': 9.8, 'Purchase_Year': 2021}\n",
      "1014 {'Name': 'Amul Dark Chocolate', 'Price': 90, 'Quantity': 143, 'Discount%': 7.1, 'Purchase_Year': 2021}\n",
      "1015 {'Name': 'Lotte Choco Pie', 'Price': 15, 'Quantity': 54, 'Discount%': 3.7, 'Purchase_Year': 2021}\n",
      "1016 {'Name': 'Cadbury Fuse', 'Price': 30, 'Quantity': 295, 'Discount%': 3.3, 'Purchase_Year': 2021}\n",
      "1017 {'Name': \"Hershey's Milk Chocolate\", 'Price': 150, 'Quantity': 126, 'Discount%': 6.9, 'Purchase_Year': 2021}\n",
      "1018 {'Name': 'Bourbon Biscuit', 'Price': 30, 'Quantity': 94, 'Discount%': 5.6, 'Purchase_Year': 2021}\n",
      "1019 {'Name': 'Oreo Biscuit', 'Price': 30, 'Quantity': 184, 'Discount%': 5.9, 'Purchase_Year': 2021}\n",
      "1020 {'Name': 'Jim-Jam Biscuit', 'Price': 30, 'Quantity': 123, 'Discount%': 1.7, 'Purchase_Year': 2021}\n",
      "1021 {'Name': 'Hide & Seek', 'Price': 40, 'Quantity': 117, 'Discount%': 3.3, 'Purchase_Year': 2021}\n",
      "1022 {'Name': 'Dark Fantasy', 'Price': 50, 'Quantity': 110, 'Discount%': 3.7, 'Purchase_Year': 2021}\n",
      "1023 {'Name': 'Blue Lays', 'Price': 20, 'Quantity': 67, 'Discount%': 2.2, 'Purchase_Year': 2021}\n",
      "1024 {'Name': 'Green Lays', 'Price': 20, 'Quantity': 200, 'Discount%': 9.2, 'Purchase_Year': 2021}\n",
      "1025 {'Name': 'Uncle Chips', 'Price': 25, 'Quantity': 124, 'Discount%': 9.5, 'Purchase_Year': 2021}\n",
      "1026 {'Name': 'Kinder Joy', 'Price': 40, 'Quantity': 236, 'Discount%': 8.7, 'Purchase_Year': 2021}\n",
      "1027 {'Name': 'Fun Stix', 'Price': 20, 'Quantity': 124, 'Discount%': 7.8, 'Purchase_Year': 2021}\n",
      "1028 {'Name': 'Pringles', 'Price': 130, 'Quantity': 41, 'Discount%': 2.3, 'Purchase_Year': 2021}\n",
      "1029 {'Name': 'Kurkure', 'Price': 25, 'Quantity': 103, 'Discount%': 8.9, 'Purchase_Year': 2021}\n"
     ]
    }
   ],
   "source": [
    "print(\"List of Products ->\")\n",
    "\n",
    "print(\"..................................................................................\")\n",
    "for i in inventory:\n",
    "    print(i,inventory[i])"
   ]
  },
  {
   "cell_type": "markdown",
   "id": "55e1fe57",
   "metadata": {},
   "source": [
    "## Add New Item into Inventory"
   ]
  },
  {
   "cell_type": "code",
   "execution_count": 161,
   "id": "9f4c23c9",
   "metadata": {},
   "outputs": [
    {
     "name": "stdout",
     "output_type": "stream",
     "text": [
      "Enter product id:1030\n",
      "Enter quantity:79\n",
      "Enter name:Mad Angles\n",
      "Enter price:30\n",
      "Enter Discount %:4.9\n",
      "Enter Year of Purchase:2021\n"
     ]
    }
   ],
   "source": [
    "prod_id = str(input(\"Enter product id:\"))\n",
    "\n",
    "if prod_id in inventory:\n",
    "    qn = int(input(\"Enter quantity:\"))\n",
    "    inventory[prod_id]['Quantity'] += qn\n",
    "else:\n",
    "    name = str(input(\"Enter name:\"))\n",
    "    pr = int(input(\"Enter price:\"))\n",
    "    qn = int(input(\"Enter quantity:\"))\n",
    "    dis = float(input(\"Enter Discount %:\"))\n",
    "    yr_p = int(input(\"Enter Year of Purchase:\"))\n",
    "\n",
    "    inventory[prod_id] = {'Name': name, 'Price': pr, 'Quantity': qn, 'Discount%': dis, 'Purchase_Year': yr_p}"
   ]
  },
  {
   "cell_type": "code",
   "execution_count": 162,
   "id": "8adc1b36",
   "metadata": {},
   "outputs": [],
   "source": [
    "js = json.dumps(inventory)\n",
    "\n",
    "fd = open(\"inventory.json\",'w')\n",
    "fd.write(js)\n",
    "fd.close()"
   ]
  },
  {
   "cell_type": "code",
   "execution_count": 163,
   "id": "02bc9bd8",
   "metadata": {},
   "outputs": [
    {
     "name": "stdout",
     "output_type": "stream",
     "text": [
      "List of Products ->\n",
      "..................................................................................\n",
      "1001 {'Name': 'Dairy Milk', 'Price': 10, 'Quantity': 271, 'Discount%': 0.5, 'Purchase_Year': 2021}\n",
      "1002 {'Name': 'Cadbury Silk', 'Price': 60, 'Quantity': 99, 'Discount%': 6.7, 'Purchase_Year': 2021}\n",
      "1003 {'Name': '5 Star', 'Price': 25, 'Quantity': 36, 'Discount%': 5.5, 'Purchase_Year': 2021}\n",
      "1004 {'Name': 'Perk', 'Price': 5, 'Quantity': 66, 'Discount%': 1.4, 'Purchase_Year': 2021}\n",
      "1005 {'Name': 'Kit-Kat', 'Price': 30, 'Quantity': 103, 'Discount%': 2.6, 'Purchase_Year': 2021}\n",
      "1006 {'Name': 'Milky Bar', 'Price': 20, 'Quantity': 252, 'Discount%': 3.3, 'Purchase_Year': 2021}\n",
      "1007 {'Name': 'Bar-one', 'Price': 40, 'Quantity': 261, 'Discount%': 7.9, 'Purchase_Year': 2021}\n",
      "1008 {'Name': 'Munch', 'Price': 5, 'Quantity': 99, 'Discount%': 9.9, 'Purchase_Year': 2021}\n",
      "1009 {'Name': 'Ferrero Rocher', 'Price': 240, 'Quantity': 168, 'Discount%': 9.0, 'Purchase_Year': 2021}\n",
      "1010 {'Name': 'Galaxy', 'Price': 40, 'Quantity': 97, 'Discount%': 8.8, 'Purchase_Year': 2021}\n",
      "1011 {'Name': 'Snickers', 'Price': 30, 'Quantity': 282, 'Discount%': 7.1, 'Purchase_Year': 2021}\n",
      "1012 {'Name': 'Toblerone', 'Price': 200, 'Quantity': 226, 'Discount%': 3.4, 'Purchase_Year': 2021}\n",
      "1013 {'Name': \"Hershey's Syrup\", 'Price': 220, 'Quantity': 117, 'Discount%': 9.8, 'Purchase_Year': 2021}\n",
      "1014 {'Name': 'Amul Dark Chocolate', 'Price': 90, 'Quantity': 143, 'Discount%': 7.1, 'Purchase_Year': 2021}\n",
      "1015 {'Name': 'Lotte Choco Pie', 'Price': 15, 'Quantity': 54, 'Discount%': 3.7, 'Purchase_Year': 2021}\n",
      "1016 {'Name': 'Cadbury Fuse', 'Price': 30, 'Quantity': 295, 'Discount%': 3.3, 'Purchase_Year': 2021}\n",
      "1017 {'Name': \"Hershey's Milk Chocolate\", 'Price': 150, 'Quantity': 126, 'Discount%': 6.9, 'Purchase_Year': 2021}\n",
      "1018 {'Name': 'Bourbon Biscuit', 'Price': 30, 'Quantity': 94, 'Discount%': 5.6, 'Purchase_Year': 2021}\n",
      "1019 {'Name': 'Oreo Biscuit', 'Price': 30, 'Quantity': 184, 'Discount%': 5.9, 'Purchase_Year': 2021}\n",
      "1020 {'Name': 'Jim-Jam Biscuit', 'Price': 30, 'Quantity': 123, 'Discount%': 1.7, 'Purchase_Year': 2021}\n",
      "1021 {'Name': 'Hide & Seek', 'Price': 40, 'Quantity': 117, 'Discount%': 3.3, 'Purchase_Year': 2021}\n",
      "1022 {'Name': 'Dark Fantasy', 'Price': 50, 'Quantity': 110, 'Discount%': 3.7, 'Purchase_Year': 2021}\n",
      "1023 {'Name': 'Blue Lays', 'Price': 20, 'Quantity': 67, 'Discount%': 2.2, 'Purchase_Year': 2021}\n",
      "1024 {'Name': 'Green Lays', 'Price': 20, 'Quantity': 200, 'Discount%': 9.2, 'Purchase_Year': 2021}\n",
      "1025 {'Name': 'Uncle Chips', 'Price': 25, 'Quantity': 124, 'Discount%': 9.5, 'Purchase_Year': 2021}\n",
      "1026 {'Name': 'Kinder Joy', 'Price': 40, 'Quantity': 236, 'Discount%': 8.7, 'Purchase_Year': 2021}\n",
      "1027 {'Name': 'Fun Stix', 'Price': 20, 'Quantity': 124, 'Discount%': 7.8, 'Purchase_Year': 2021}\n",
      "1028 {'Name': 'Pringles', 'Price': 130, 'Quantity': 41, 'Discount%': 2.3, 'Purchase_Year': 2021}\n",
      "1029 {'Name': 'Kurkure', 'Price': 25, 'Quantity': 103, 'Discount%': 8.9, 'Purchase_Year': 2021}\n",
      "1030 {'Name': 'Mad Angles', 'Price': 30, 'Quantity': 79, 'Discount%': 4.9, 'Purchase_Year': 2021}\n"
     ]
    }
   ],
   "source": [
    "print(\"List of Products ->\")\n",
    "\n",
    "print(\"..................................................................................\")\n",
    "for i in inventory:\n",
    "    print(i,inventory[i])"
   ]
  }
 ],
 "metadata": {
  "kernelspec": {
   "display_name": "Python 3",
   "language": "python",
   "name": "python3"
  },
  "language_info": {
   "codemirror_mode": {
    "name": "ipython",
    "version": 3
   },
   "file_extension": ".py",
   "mimetype": "text/x-python",
   "name": "python",
   "nbconvert_exporter": "python",
   "pygments_lexer": "ipython3",
   "version": "3.8.8"
  }
 },
 "nbformat": 4,
 "nbformat_minor": 5
}

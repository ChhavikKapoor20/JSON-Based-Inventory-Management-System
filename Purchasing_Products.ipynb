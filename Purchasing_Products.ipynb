{
 "cells": [
  {
   "cell_type": "markdown",
   "id": "785390a0",
   "metadata": {},
   "source": [
    "## Importing Modules"
   ]
  },
  {
   "cell_type": "code",
   "execution_count": 167,
   "id": "d84eec82",
   "metadata": {},
   "outputs": [],
   "source": [
    "import json\n",
    "import time\n",
    "import math"
   ]
  },
  {
   "cell_type": "markdown",
   "id": "f64743a8",
   "metadata": {},
   "source": [
    "## Read Data from JSON"
   ]
  },
  {
   "cell_type": "code",
   "execution_count": 168,
   "id": "d604b723",
   "metadata": {},
   "outputs": [],
   "source": [
    "fd = open(\"inventory.json\",'r')\n",
    "txt = fd.read()\n",
    "fd.close()\n",
    "\n",
    "inventory = json.loads(txt)"
   ]
  },
  {
   "cell_type": "markdown",
   "id": "dbe835d3",
   "metadata": {},
   "source": [
    "## Menu"
   ]
  },
  {
   "cell_type": "code",
   "execution_count": 185,
   "id": "9ce4e6f6",
   "metadata": {},
   "outputs": [
    {
     "name": "stdout",
     "output_type": "stream",
     "text": [
      "******************************************\n",
      "WELCOME TO INVENTORY MANAGEMENT SYSTEM\n",
      "\n",
      "List of Products ->\n",
      "..................................................................................\n",
      "1001 {'Name': 'Dairy Milk', 'Price': 10, 'Quantity': 258, 'Discount%': 0.5, 'Purchase_Year': 2021}\n",
      "1002 {'Name': 'Cadbury Silk', 'Price': 60, 'Quantity': 81, 'Discount%': 6.7, 'Purchase_Year': 2021}\n",
      "1003 {'Name': '5 Star', 'Price': 25, 'Quantity': 19, 'Discount%': 5.5, 'Purchase_Year': 2021}\n",
      "1004 {'Name': 'Perk', 'Price': 5, 'Quantity': 66, 'Discount%': 1.4, 'Purchase_Year': 2021}\n",
      "1005 {'Name': 'Kit-Kat', 'Price': 30, 'Quantity': 91, 'Discount%': 2.6, 'Purchase_Year': 2021}\n",
      "1006 {'Name': 'Milky Bar', 'Price': 20, 'Quantity': 252, 'Discount%': 3.3, 'Purchase_Year': 2021}\n",
      "1007 {'Name': 'Bar-one', 'Price': 40, 'Quantity': 252, 'Discount%': 7.9, 'Purchase_Year': 2021}\n",
      "1008 {'Name': 'Munch', 'Price': 5, 'Quantity': 99, 'Discount%': 9.9, 'Purchase_Year': 2021}\n",
      "1009 {'Name': 'Ferrero Rocher', 'Price': 240, 'Quantity': 163, 'Discount%': 9.0, 'Purchase_Year': 2021}\n",
      "1010 {'Name': 'Galaxy', 'Price': 40, 'Quantity': 97, 'Discount%': 8.8, 'Purchase_Year': 2021}\n",
      "1011 {'Name': 'Snickers', 'Price': 30, 'Quantity': 282, 'Discount%': 7.1, 'Purchase_Year': 2021}\n",
      "1012 {'Name': 'Toblerone', 'Price': 200, 'Quantity': 217, 'Discount%': 3.4, 'Purchase_Year': 2021}\n",
      "1013 {'Name': \"Hershey's Syrup\", 'Price': 220, 'Quantity': 97, 'Discount%': 9.8, 'Purchase_Year': 2021}\n",
      "1014 {'Name': 'Amul Dark Chocolate', 'Price': 90, 'Quantity': 116, 'Discount%': 7.1, 'Purchase_Year': 2021}\n",
      "1015 {'Name': 'Lotte Choco Pie', 'Price': 15, 'Quantity': 54, 'Discount%': 3.7, 'Purchase_Year': 2021}\n",
      "1016 {'Name': 'Cadbury Fuse', 'Price': 30, 'Quantity': 295, 'Discount%': 3.3, 'Purchase_Year': 2021}\n",
      "1017 {'Name': \"Hershey's Milk Chocolate\", 'Price': 150, 'Quantity': 126, 'Discount%': 6.9, 'Purchase_Year': 2021}\n",
      "1018 {'Name': 'Bourbon Biscuit', 'Price': 30, 'Quantity': 79, 'Discount%': 5.6, 'Purchase_Year': 2021}\n",
      "1019 {'Name': 'Oreo Biscuit', 'Price': 30, 'Quantity': 166, 'Discount%': 5.9, 'Purchase_Year': 2021}\n",
      "1020 {'Name': 'Jim-Jam Biscuit', 'Price': 30, 'Quantity': 117, 'Discount%': 1.7, 'Purchase_Year': 2021}\n",
      "1021 {'Name': 'Hide & Seek', 'Price': 40, 'Quantity': 99, 'Discount%': 3.3, 'Purchase_Year': 2021}\n",
      "1022 {'Name': 'Dark Fantasy', 'Price': 50, 'Quantity': 77, 'Discount%': 3.7, 'Purchase_Year': 2021}\n",
      "1023 {'Name': 'Blue Lays', 'Price': 20, 'Quantity': 67, 'Discount%': 2.2, 'Purchase_Year': 2021}\n",
      "1024 {'Name': 'Green Lays', 'Price': 20, 'Quantity': 200, 'Discount%': 9.2, 'Purchase_Year': 2021}\n",
      "1025 {'Name': 'Uncle Chips', 'Price': 25, 'Quantity': 108, 'Discount%': 9.5, 'Purchase_Year': 2021}\n",
      "1026 {'Name': 'Kinder Joy', 'Price': 40, 'Quantity': 236, 'Discount%': 8.7, 'Purchase_Year': 2021}\n",
      "1027 {'Name': 'Fun Stix', 'Price': 20, 'Quantity': 108, 'Discount%': 7.8, 'Purchase_Year': 2021}\n",
      "1028 {'Name': 'Pringles', 'Price': 130, 'Quantity': 40, 'Discount%': 2.3, 'Purchase_Year': 2021}\n",
      "1029 {'Name': 'Kurkure', 'Price': 25, 'Quantity': 97, 'Discount%': 8.9, 'Purchase_Year': 2021}\n",
      "1030 {'Name': 'Mad Angles', 'Price': 30, 'Quantity': 54, 'Discount%': 4.9, 'Purchase_Year': 2021}\n",
      "   0 EXIT\n",
      "******************************************\n"
     ]
    }
   ],
   "source": [
    "print(\"******************************************\")\n",
    "print(\"WELCOME TO INVENTORY MANAGEMENT SYSTEM\\n\")\n",
    "print(\"List of Products ->\")\n",
    "\n",
    "print(\"..................................................................................\")\n",
    "for i in inventory:\n",
    "    print(i,inventory[i])\n",
    "print(\"   0 EXIT\")\n",
    "print(\"******************************************\")"
   ]
  },
  {
   "cell_type": "markdown",
   "id": "d7f6e71c",
   "metadata": {},
   "source": [
    "## Bill Generation"
   ]
  },
  {
   "cell_type": "code",
   "execution_count": 183,
   "id": "0ca82993",
   "metadata": {},
   "outputs": [],
   "source": [
    "bill = 0\n",
    "cart = []\n",
    "tot_saving = 0"
   ]
  },
  {
   "cell_type": "code",
   "execution_count": 184,
   "id": "6ed4119a",
   "metadata": {},
   "outputs": [
    {
     "name": "stdout",
     "output_type": "stream",
     "text": [
      "What do you want to buy ?\n",
      "Enter 0 to exit\n",
      "\n",
      "Enter Product ID: 1001\n",
      "Enter Product Qty: 1\n",
      "***********************************************\n",
      "Product ID: 1001\t Product Name: Dairy Milk\n",
      "Quantity: 1\t Price Per Qty: 10\n",
      "***********************************************\n",
      "--------------------------\n",
      "Subtotal:  10\n",
      "Item added to cart!\n",
      "--------------------------\n",
      "\n",
      "Enter another Product Id!\n",
      "OR\n",
      "Enter 0 to exit and get total billing amount!\n",
      "\n",
      "\n",
      "Enter Product ID: 0\n"
     ]
    }
   ],
   "source": [
    "print(\"What do you want to buy ?\")\n",
    "print(\"Enter 0 to exit\")\n",
    "\n",
    "while (True):\n",
    "\n",
    "    ui_prod = str(input(\"\\nEnter Product ID: \"))\n",
    "    \n",
    "    if ui_prod != str(0):\n",
    "        if ui_prod not in inventory:\n",
    "            print(\"Enter a valid input!!\")\n",
    "            pass\n",
    "    \n",
    "    try:    \n",
    "        if (int(ui_prod) == 0 and bill == 0):\n",
    "            print(\"Visit Again!! ☺\")\n",
    "            pass\n",
    "\n",
    "        if (int(ui_prod) == 0):    \n",
    "            break\n",
    "\n",
    "        if ui_prod in inventory:\n",
    "            ui_quant = int(input(\"Enter Product Qty: \"))\n",
    "\n",
    "        for item in inventory:\n",
    "\n",
    "            dis = inventory[item]['Discount%']\n",
    "            pr = inventory[item]['Price']\n",
    "            u_save = dis*pr/100\n",
    "\n",
    "            if (ui_prod == item and ui_quant <= inventory[item]['Quantity']):\n",
    "\n",
    "                print(\"***********************************************\")\n",
    "\n",
    "                print(\"Product ID: {}\\t Product Name: {}\".format(item, inventory[item]['Name']))   \n",
    "                print(\"Quantity: {}\\t Price Per Qty: {}\".format(ui_quant, pr))\n",
    "\n",
    "                print(\"***********************************************\")\n",
    "\n",
    "                print(\"--------------------------\")\n",
    "                print(\"Subtotal: \",(ui_quant * pr))\n",
    "\n",
    "                bill = bill + (ui_quant * pr)\n",
    "                tot_saving += u_save\n",
    "                cart.append([inventory[item]['Name'], \"{} * Rs {} = Rs {}\".format(ui_quant, pr, (ui_quant*pr) )])\n",
    "\n",
    "                print(\"Item added to cart!\")\n",
    "                print(\"--------------------------\\n\")\n",
    "\n",
    "                inventory[item]['Quantity'] -= ui_quant\n",
    "\n",
    "                print(\"Enter another Product Id!\")\n",
    "                print(\"OR\")\n",
    "                print(\"Enter 0 to exit and get total billing amount!\\n\")\n",
    "            \n",
    "            elif (ui_quant > inventory[item]['Quantity']):\n",
    "                \n",
    "                rem = ui_quant - inventory[item]['Quantity']\n",
    "                if rem == ui_quant:\n",
    "                    print(\"Product Out of Stock!\")\n",
    "                    print(\"Sorry for the inconvenience!\")\n",
    "                else:\n",
    "                    print(\"We have only {} unit/s of this article!\".format(ui_quant-rem))\n",
    "                    print(\"Sorry for the inconvenience!\")\n",
    "                    break\n",
    "                    \n",
    "    except:\n",
    "        pass"
   ]
  },
  {
   "cell_type": "code",
   "execution_count": 186,
   "id": "79e0e112",
   "metadata": {},
   "outputs": [
    {
     "name": "stdout",
     "output_type": "stream",
     "text": [
      "Customer Name: Priya\n",
      "['Dairy Milk', '1 * Rs 10 = Rs 10']\n",
      "--------------------------\n",
      "Gross Amount  : Rs 10\n",
      "Discount      : Rs 1\n",
      "__________________________\n",
      "Billing Amount: Rs 9\n",
      "--------------------------\n",
      "Date of Purchase:  Fri Sep  3 23:51:33 2021\n",
      "--------------------------------------------\n",
      "Thank You For Shopping With Us Priya! ☺\n"
     ]
    }
   ],
   "source": [
    "if (bill != 0):\n",
    "    name = input(\"Customer Name: \")\n",
    "\n",
    "    for i in cart:\n",
    "        print(i)\n",
    "    print(\"--------------------------\")\n",
    "    print(\"Gross Amount  : Rs\",bill)\n",
    "    print(\"Discount      : Rs\",math.ceil(tot_saving))\n",
    "    print(\"__________________________\")\n",
    "    print(\"Billing Amount: Rs\",bill-math.ceil(tot_saving))\n",
    "    print(\"--------------------------\")\n",
    "    time_of_purchase = time.ctime()\n",
    "    print(\"Date of Purchase: \", time_of_purchase)\n",
    "    print(\"--------------------------------------------\")\n",
    "    print(\"Thank You For Shopping With Us {}! ☺\".format(name))"
   ]
  },
  {
   "cell_type": "markdown",
   "id": "0e65b176",
   "metadata": {},
   "source": [
    "## Update Inventory after Purchase"
   ]
  },
  {
   "cell_type": "code",
   "execution_count": 187,
   "id": "280f4a5e",
   "metadata": {},
   "outputs": [
    {
     "name": "stdout",
     "output_type": "stream",
     "text": [
      "{'1001': {'Name': 'Dairy Milk', 'Price': 10, 'Quantity': 258, 'Discount%': 0.5, 'Purchase_Year': 2021}, '1002': {'Name': 'Cadbury Silk', 'Price': 60, 'Quantity': 81, 'Discount%': 6.7, 'Purchase_Year': 2021}, '1003': {'Name': '5 Star', 'Price': 25, 'Quantity': 19, 'Discount%': 5.5, 'Purchase_Year': 2021}, '1004': {'Name': 'Perk', 'Price': 5, 'Quantity': 66, 'Discount%': 1.4, 'Purchase_Year': 2021}, '1005': {'Name': 'Kit-Kat', 'Price': 30, 'Quantity': 91, 'Discount%': 2.6, 'Purchase_Year': 2021}, '1006': {'Name': 'Milky Bar', 'Price': 20, 'Quantity': 252, 'Discount%': 3.3, 'Purchase_Year': 2021}, '1007': {'Name': 'Bar-one', 'Price': 40, 'Quantity': 252, 'Discount%': 7.9, 'Purchase_Year': 2021}, '1008': {'Name': 'Munch', 'Price': 5, 'Quantity': 99, 'Discount%': 9.9, 'Purchase_Year': 2021}, '1009': {'Name': 'Ferrero Rocher', 'Price': 240, 'Quantity': 163, 'Discount%': 9.0, 'Purchase_Year': 2021}, '1010': {'Name': 'Galaxy', 'Price': 40, 'Quantity': 97, 'Discount%': 8.8, 'Purchase_Year': 2021}, '1011': {'Name': 'Snickers', 'Price': 30, 'Quantity': 282, 'Discount%': 7.1, 'Purchase_Year': 2021}, '1012': {'Name': 'Toblerone', 'Price': 200, 'Quantity': 217, 'Discount%': 3.4, 'Purchase_Year': 2021}, '1013': {'Name': \"Hershey's Syrup\", 'Price': 220, 'Quantity': 97, 'Discount%': 9.8, 'Purchase_Year': 2021}, '1014': {'Name': 'Amul Dark Chocolate', 'Price': 90, 'Quantity': 116, 'Discount%': 7.1, 'Purchase_Year': 2021}, '1015': {'Name': 'Lotte Choco Pie', 'Price': 15, 'Quantity': 54, 'Discount%': 3.7, 'Purchase_Year': 2021}, '1016': {'Name': 'Cadbury Fuse', 'Price': 30, 'Quantity': 295, 'Discount%': 3.3, 'Purchase_Year': 2021}, '1017': {'Name': \"Hershey's Milk Chocolate\", 'Price': 150, 'Quantity': 126, 'Discount%': 6.9, 'Purchase_Year': 2021}, '1018': {'Name': 'Bourbon Biscuit', 'Price': 30, 'Quantity': 79, 'Discount%': 5.6, 'Purchase_Year': 2021}, '1019': {'Name': 'Oreo Biscuit', 'Price': 30, 'Quantity': 166, 'Discount%': 5.9, 'Purchase_Year': 2021}, '1020': {'Name': 'Jim-Jam Biscuit', 'Price': 30, 'Quantity': 117, 'Discount%': 1.7, 'Purchase_Year': 2021}, '1021': {'Name': 'Hide & Seek', 'Price': 40, 'Quantity': 99, 'Discount%': 3.3, 'Purchase_Year': 2021}, '1022': {'Name': 'Dark Fantasy', 'Price': 50, 'Quantity': 77, 'Discount%': 3.7, 'Purchase_Year': 2021}, '1023': {'Name': 'Blue Lays', 'Price': 20, 'Quantity': 67, 'Discount%': 2.2, 'Purchase_Year': 2021}, '1024': {'Name': 'Green Lays', 'Price': 20, 'Quantity': 200, 'Discount%': 9.2, 'Purchase_Year': 2021}, '1025': {'Name': 'Uncle Chips', 'Price': 25, 'Quantity': 108, 'Discount%': 9.5, 'Purchase_Year': 2021}, '1026': {'Name': 'Kinder Joy', 'Price': 40, 'Quantity': 236, 'Discount%': 8.7, 'Purchase_Year': 2021}, '1027': {'Name': 'Fun Stix', 'Price': 20, 'Quantity': 108, 'Discount%': 7.8, 'Purchase_Year': 2021}, '1028': {'Name': 'Pringles', 'Price': 130, 'Quantity': 40, 'Discount%': 2.3, 'Purchase_Year': 2021}, '1029': {'Name': 'Kurkure', 'Price': 25, 'Quantity': 97, 'Discount%': 8.9, 'Purchase_Year': 2021}, '1030': {'Name': 'Mad Angles', 'Price': 30, 'Quantity': 54, 'Discount%': 4.9, 'Purchase_Year': 2021}}\n"
     ]
    }
   ],
   "source": [
    "print(inventory)"
   ]
  },
  {
   "cell_type": "code",
   "execution_count": 188,
   "id": "3aafca14",
   "metadata": {},
   "outputs": [],
   "source": [
    "js = json.dumps(inventory)"
   ]
  },
  {
   "cell_type": "code",
   "execution_count": 189,
   "id": "6ae4c854",
   "metadata": {},
   "outputs": [],
   "source": [
    "fd = open('Inventory.json','w')\n",
    "fd.write(js)\n",
    "fd.close()"
   ]
  },
  {
   "cell_type": "markdown",
   "id": "cc5a3eb5",
   "metadata": {},
   "source": [
    "## Sales JSON"
   ]
  },
  {
   "cell_type": "code",
   "execution_count": 190,
   "id": "0a603e01",
   "metadata": {},
   "outputs": [],
   "source": [
    "fd = open(\"Sales.json\",'r')\n",
    "txt = fd.read()\n",
    "fd.close()"
   ]
  },
  {
   "cell_type": "code",
   "execution_count": 191,
   "id": "14189220",
   "metadata": {},
   "outputs": [],
   "source": [
    "sales = json.loads(txt)"
   ]
  },
  {
   "cell_type": "code",
   "execution_count": 192,
   "id": "34f8b1fe",
   "metadata": {},
   "outputs": [],
   "source": [
    "try:\n",
    "    sales[len(sales) + 1] = {\"Name: \" : name, \"Cart: \" : cart, \"Gross Amount\": bill, \"Discount\": math.ceil(tot_saving), \"Billing Amount: \" : bill-math.ceil(tot_saving), \"Date of Purchase: \" : time_of_purchase}\n",
    "except:\n",
    "    pass"
   ]
  },
  {
   "cell_type": "code",
   "execution_count": 193,
   "id": "8936f9ab",
   "metadata": {},
   "outputs": [],
   "source": [
    "js = json.dumps(sales)"
   ]
  },
  {
   "cell_type": "code",
   "execution_count": 194,
   "id": "c36d03cf",
   "metadata": {},
   "outputs": [],
   "source": [
    "fd = open('Sales.json','w')\n",
    "fd.write(js)\n",
    "fd.close()"
   ]
  },
  {
   "cell_type": "code",
   "execution_count": null,
   "id": "2e3b42a3",
   "metadata": {},
   "outputs": [],
   "source": []
  },
  {
   "cell_type": "code",
   "execution_count": 195,
   "id": "fa0fc81f",
   "metadata": {},
   "outputs": [],
   "source": [
    "# inventory = {1001 : {'Name' : \"Dairy Milk\", 'Price' : 10, 'Quantity' : 283, 'Discount%' : 0.5, 'Purchase_Year' : 2021},\n",
    "#              1002 : {'Name' : \"Cadbury Silk\", 'Price' : 60, 'Quantity' : 99, 'Discount%' : 6.7, 'Purchase_Year' : 2021},\n",
    "#              1003 : {'Name' : \"5 Star\", 'Price' : 25, 'Quantity' : 41, 'Discount%' : 5.5, 'Purchase_Year' : 2021}}"
   ]
  },
  {
   "cell_type": "code",
   "execution_count": 196,
   "id": "c273f05e",
   "metadata": {},
   "outputs": [],
   "source": [
    "# sales = {}\n",
    "# sales[1] = {\"Name: \" : name, \"Cart: \" : cart, \"Gross Amount\": bill, \"Discount\": math.ceil(tot_saving), \"Billing Amount: \" : bill-math.ceil(tot_saving), \"Date of Purchase: \" : time_of_purchase}\n",
    "# print(sales)"
   ]
  }
 ],
 "metadata": {
  "kernelspec": {
   "display_name": "Python 3",
   "language": "python",
   "name": "python3"
  },
  "language_info": {
   "codemirror_mode": {
    "name": "ipython",
    "version": 3
   },
   "file_extension": ".py",
   "mimetype": "text/x-python",
   "name": "python",
   "nbconvert_exporter": "python",
   "pygments_lexer": "ipython3",
   "version": "3.8.8"
  }
 },
 "nbformat": 4,
 "nbformat_minor": 5
}
